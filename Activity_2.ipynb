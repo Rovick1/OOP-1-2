{
  "nbformat": 4,
  "nbformat_minor": 0,
  "metadata": {
    "colab": {
      "name": "Activity 2.ipynb",
      "provenance": [],
      "authorship_tag": "ABX9TyObx2C6psJ0rllf0hwRw8YY",
      "include_colab_link": true
    },
    "kernelspec": {
      "name": "python3",
      "display_name": "Python 3"
    },
    "language_info": {
      "name": "python"
    }
  },
  "cells": [
    {
      "cell_type": "markdown",
      "metadata": {
        "id": "view-in-github",
        "colab_type": "text"
      },
      "source": [
        "<a href=\"https://colab.research.google.com/github/Rovick1/OOP-1-2/blob/main/Activity_2.ipynb\" target=\"_parent\"><img src=\"https://colab.research.google.com/assets/colab-badge.svg\" alt=\"Open In Colab\"/></a>"
      ]
    },
    {
      "cell_type": "markdown",
      "source": [
        "##Instruction\n",
        "1. Define an Area() method of the class that calculates the circle’s area.\n",
        "2. Define a Perimeter() method of the class which allows you to calculate the\n",
        "perimeter of the circle.\n",
        "3. Save your python program named as “Activity 2” to your GitHub repository\n",
        "“OOP 1-2”\n",
        "4. Share your GitHub link attached with this manuscript."
      ],
      "metadata": {
        "id": "Rqvm6HUB-qNy"
      }
    },
    {
      "cell_type": "code",
      "source": [
        "class Circle():\n",
        "    def __init__(self, r):\n",
        "        self.radius = r\n",
        "\n",
        "    def area(self):\n",
        "        return self.radius**2*3.14\n",
        "\n",
        "    def perimeter(self):\n",
        "        return (2*self.radius*3.14)\n",
        "\n",
        "input_radius = float(input(\"Input radius: \"))\n",
        "NewCircle = Circle(input_radius)\n",
        "print(\"Area of Circle:\",NewCircle.area())\n",
        "print(\"Perimeter of Circle:\", NewCircle.perimeter())"
      ],
      "metadata": {
        "colab": {
          "base_uri": "https://localhost:8080/"
        },
        "id": "jx9YwM4prb9M",
        "outputId": "7571af5b-d94b-4bbb-aeae-c936437d5765"
      },
      "execution_count": 65,
      "outputs": [
        {
          "output_type": "stream",
          "name": "stdout",
          "text": [
            "Input radius: 8\n",
            "Area of Circle: 200.96\n",
            "Perimeter of Circle: 50.24\n"
          ]
        }
      ]
    }
  ]
}