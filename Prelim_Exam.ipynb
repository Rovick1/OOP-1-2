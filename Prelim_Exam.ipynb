{
  "nbformat": 4,
  "nbformat_minor": 0,
  "metadata": {
    "colab": {
      "name": "Prelim Exam.ipynb",
      "provenance": [],
      "authorship_tag": "ABX9TyOUYnnsbTJuXDgxwIAeFQU+",
      "include_colab_link": true
    },
    "kernelspec": {
      "name": "python3",
      "display_name": "Python 3"
    },
    "language_info": {
      "name": "python"
    }
  },
  "cells": [
    {
      "cell_type": "markdown",
      "metadata": {
        "id": "view-in-github",
        "colab_type": "text"
      },
      "source": [
        "<a href=\"https://colab.research.google.com/github/Rovick1/OOP-1-2/blob/main/Prelim_Exam.ipynb\" target=\"_parent\"><img src=\"https://colab.research.google.com/assets/colab-badge.svg\" alt=\"Open In Colab\"/></a>"
      ]
    },
    {
      "cell_type": "markdown",
      "source": [
        "Problem 2.\n",
        "1. Write a Python to display your full name, student number, age, and course\n",
        "2. Create a class named Student with attributes: Name, Student_No, Age, School,\n",
        "and Course\n",
        "3. Create an object name Myself and assign an instance for each attribute.\n",
        "4. Create a method Info() using an instantiation of a class.\n",
        "5. Insert your GitHub link \"Prelim Exam\" from your repository named \"OOP 1-2\""
      ],
      "metadata": {
        "id": "SNmJMUx1lUsY"
      }
    },
    {
      "cell_type": "code",
      "source": [
        "class Student:\n",
        "  def __init__(self, Name, Student_No, Age, School, Course):\n",
        "    self.Name = Name\n",
        "    self.Student_No = Student_No\n",
        "    self.Age = Age\n",
        "    self.School = School\n",
        "    self.Course = Course\n",
        "\n",
        "  def Info(self):\n",
        "    print(\"\\n\", \"Hi my Name is\", self.Name,\"and My Student Number is\", self.Student_No,\"\\n\", \"I am\", self.Age,\"years old\",\"\\n\",\"And I Studying at\", self.School , self.Course)\n",
        "\n",
        "Myself = Student(\"Jan Rovick M. Causaren\", \"202101632\" ,\"19\" , \"Cavite State University -  Main Campus,\", \"Bachelor of Science in Computer Engineering\")\n",
        "Myself.Info()\n"
      ],
      "metadata": {
        "colab": {
          "base_uri": "https://localhost:8080/"
        },
        "id": "XlLctCqAk5wx",
        "outputId": "6d5c00a6-cbdd-467e-e598-7e497e45bc78"
      },
      "execution_count": 18,
      "outputs": [
        {
          "output_type": "stream",
          "name": "stdout",
          "text": [
            "\n",
            " Hi my Name is Jan Rovick M. Causaren and My Student Number is 202101632 \n",
            " I am 19 years old \n",
            " And I Studying at Cavite State University -  Main Campus, Bachelor of Science in Computer Engineering\n"
          ]
        }
      ]
    }
  ]
}