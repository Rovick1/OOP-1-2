{
  "nbformat": 4,
  "nbformat_minor": 0,
  "metadata": {
    "colab": {
      "name": "OOP Concepts 2.ipynb",
      "provenance": [],
      "authorship_tag": "ABX9TyNLj9ujlJrjEFsLJ8Uzi3A1",
      "include_colab_link": true
    },
    "kernelspec": {
      "name": "python3",
      "display_name": "Python 3"
    },
    "language_info": {
      "name": "python"
    }
  },
  "cells": [
    {
      "cell_type": "markdown",
      "metadata": {
        "id": "view-in-github",
        "colab_type": "text"
      },
      "source": [
        "<a href=\"https://colab.research.google.com/github/Rovick1/OOP-1-2/blob/main/OOP_Concepts_2.ipynb\" target=\"_parent\"><img src=\"https://colab.research.google.com/assets/colab-badge.svg\" alt=\"Open In Colab\"/></a>"
      ]
    },
    {
      "cell_type": "markdown",
      "source": [
        "Classes with Multiple Objects"
      ],
      "metadata": {
        "id": "nHhrrEHlVL1M"
      }
    },
    {
      "cell_type": "code",
      "execution_count": null,
      "metadata": {
        "colab": {
          "base_uri": "https://localhost:8080/"
        },
        "id": "RxVNTWRpTCeF",
        "outputId": "86b6f766-6d30-4494-c767-ca1612e98b11"
      },
      "outputs": [
        {
          "output_type": "stream",
          "name": "stdout",
          "text": [
            "Griffon Vulture files above the sky\n",
            "Common Crane files above the sky\n",
            "Emu is the national bird of the Philippines\n"
          ]
        }
      ],
      "source": [
        "class Birds:\n",
        "  def __init__(self,bird_name):\n",
        "    self.bird_name = bird_name\n",
        "\n",
        "  def flying_birds(self):\n",
        "    print(f\"{self.bird_name} files above the sky\")\n",
        "\n",
        "  def non_flying_birds(self):\n",
        "    print(f\"{self.bird_name} is the national bird of the Philippines\")\n",
        "\n",
        "vulture = Birds(\"Griffon Vulture\")\n",
        "crane = Birds(\"Common Crane\")\n",
        "emu = Birds(\"Emu\")\n",
        "\n",
        "vulture.flying_birds()\n",
        "crane.flying_birds()\n",
        "emu.non_flying_birds()"
      ]
    },
    {
      "cell_type": "code",
      "source": [
        "class foo:\n",
        "  def __init__(self,a,b):\n",
        "    self.__a = a\n",
        "    self.__b = b\n",
        "\n",
        "  def add(self):\n",
        "    return self.__a +self.__b #Private attributes\n",
        "\n",
        "number = foo(3,4)\n",
        "number.add()\n",
        "\n",
        "number.a = 7 #7,4 7+4 = 11\n",
        "\n",
        "number.add()"
      ],
      "metadata": {
        "colab": {
          "base_uri": "https://localhost:8080/"
        },
        "id": "uTfG1IohXTiL",
        "outputId": "243cd42c-7644-489c-819f-951cc501c548"
      },
      "execution_count": null,
      "outputs": [
        {
          "output_type": "execute_result",
          "data": {
            "text/plain": [
              "7"
            ]
          },
          "metadata": {},
          "execution_count": 26
        }
      ]
    },
    {
      "cell_type": "markdown",
      "source": [
        "Encapsulation with Private Attributes"
      ],
      "metadata": {
        "id": "5xWbNK8aZpxC"
      }
    },
    {
      "cell_type": "code",
      "source": [
        "class Counter:\n",
        "  def __init__(self):\n",
        "    self.current = 0\n",
        "\n",
        "  def increment(self):\n",
        "    self.current +=1\n",
        "  def value(self):\n",
        "    return self.current\n",
        "  def reset(self):\n",
        "    self.current = 0\n",
        "\n",
        "num = Counter()\n",
        "num.increment()   #counter = counter + 1\n",
        "num.increment()\n",
        "num.increment()\n",
        "\n",
        "num.value()"
      ],
      "metadata": {
        "colab": {
          "base_uri": "https://localhost:8080/"
        },
        "id": "tU3eNSlPZgIK",
        "outputId": "90f5daa0-bc9b-484a-ea1f-05bf2efa8a14"
      },
      "execution_count": null,
      "outputs": [
        {
          "output_type": "execute_result",
          "data": {
            "text/plain": [
              "3"
            ]
          },
          "metadata": {},
          "execution_count": 13
        }
      ]
    },
    {
      "cell_type": "code",
      "source": [
        "class Counter:\n",
        "  def __init__(self):\n",
        "    self.__current = 0\n",
        "\n",
        "  def increment(self):\n",
        "    self.__current +=1\n",
        "  def value(self):\n",
        "    return self.__current\n",
        "  def reset(self):\n",
        "    self.__current = 0\n",
        "\n",
        "num = Counter()\n",
        "\n",
        "num.increment()   #counter = counter + 1\n",
        "num.increment()\n",
        "num.increment()\n",
        "\n",
        "num.counter = 1\n",
        "\n",
        "num.value()"
      ],
      "metadata": {
        "colab": {
          "base_uri": "https://localhost:8080/"
        },
        "id": "jZ0mm45obfZK",
        "outputId": "1daae54c-97b7-4758-ec9a-f92216a14064"
      },
      "execution_count": 1,
      "outputs": [
        {
          "output_type": "execute_result",
          "data": {
            "text/plain": [
              "3"
            ]
          },
          "metadata": {},
          "execution_count": 1
        }
      ]
    },
    {
      "cell_type": "markdown",
      "source": [
        "Inheritance"
      ],
      "metadata": {
        "id": "24uxSx-HdHs5"
      }
    },
    {
      "cell_type": "code",
      "source": [
        "class Person:\n",
        "  def __init__(self, firstname, surname):\n",
        "    self.firstname = firstname\n",
        "    self.surname = surname\n",
        "\n",
        "  def printname(self):\n",
        "    print(self.firstname, self.surname)\n",
        "\n",
        "person = Person(\"Ana\", \"Santos\")\n",
        "person.printname()\n",
        "\n",
        "class Teacher(Person):\n",
        "  pass\n",
        "\n",
        "person2 = Teacher(\"Maria\", \"Sayo\")\n",
        "person2.printname()\n",
        "\n",
        "class Student(Person):\n",
        "  pass\n",
        "\n",
        "person3 = Student(\"Jan Rovick\", \"Causaren\")\n",
        "person3.printname()"
      ],
      "metadata": {
        "colab": {
          "base_uri": "https://localhost:8080/"
        },
        "id": "OfSPVevldK6S",
        "outputId": "d870a359-7338-4d75-bf36-a4b91c26a628"
      },
      "execution_count": null,
      "outputs": [
        {
          "output_type": "stream",
          "name": "stdout",
          "text": [
            "Ana Santos\n",
            "Maria Sayo\n",
            "Jan Rovick Causaren\n"
          ]
        }
      ]
    },
    {
      "cell_type": "markdown",
      "source": [
        "Polymorphism"
      ],
      "metadata": {
        "id": "nAuZxucJfQVY"
      }
    },
    {
      "cell_type": "code",
      "source": [
        "class RegularPolygon:\n",
        "    def __init__(self,side):\n",
        "        self.side = side\n",
        "class Square(RegularPolygon):\n",
        "    def area(self):\n",
        "        return self.side * self.side\n",
        "class EquilateralTriangle(RegularPolygon):\n",
        "    def area(self):\n",
        "        return self.side * self.side * 0.433\n",
        "\n",
        "object = Square(4)\n",
        "print(object.area())\n",
        "\n",
        "object2 = EquilateralTriangle(3)\n",
        "print(object2.area())"
      ],
      "metadata": {
        "colab": {
          "base_uri": "https://localhost:8080/"
        },
        "id": "G3Fh7i55gDvY",
        "outputId": "529b24d3-cb94-4341-f3f2-116559755d5e"
      },
      "execution_count": null,
      "outputs": [
        {
          "output_type": "stream",
          "name": "stdout",
          "text": [
            "16\n",
            "3.897\n"
          ]
        }
      ]
    },
    {
      "cell_type": "markdown",
      "source": [
        "Application 1\n",
        "1. Create a Python program that displays the name of three students (Student 1, Student 2, and Student 3) and their term grades\n",
        "2. Create a class name Person and attributes - std1, std2 std2, pre,mid,fin\n",
        "3. Compute the average of each term grade using Grade() method\n",
        "4. Information about student's grades must be hidden from others"
      ],
      "metadata": {
        "id": "PmveXLKOhk5P"
      }
    },
    {
      "cell_type": "code",
      "source": [
        "class Students:\n",
        "  def __init__(self, std, pre, mid, fin):\n",
        "    self.__std = std\n",
        "    self.__pre = pre\n",
        "    self.__mid = mid\n",
        "    self.__fin = fin\n",
        "\n",
        "  def Grade(self):\n",
        "    return round((self.__pre + self.__mid + self.__fin) /3)\n",
        "\n",
        "class Student1(Students):\n",
        "  pass\n",
        "\n",
        "std1 = str(input(\"Enter Name: \"))\n",
        "pre1 = float(input(\"Enter Prelim Grade: \"))\n",
        "mid1 = float(input(\"Enter Midterm Grade: \"))\n",
        "fin1 = float(input(\"Enter Final Grade: \"))\n",
        "\n",
        "print()\n",
        "\n",
        "class Student2(Students):\n",
        "  pass\n",
        "\n",
        "std2 = str(input(\"Enter Name: \"))\n",
        "pre2 = float(input(\"Enter Prelim Grade: \"))\n",
        "mid2 = float(input(\"Enter Midterm Grade: \"))\n",
        "fin2 = float(input(\"Enter Final Grade: \"))\n",
        "\n",
        "print()\n",
        "\n",
        "class Student3(Students):\n",
        "  pass\n",
        "\n",
        "std3 = str(input(\"Enter Name: \"))\n",
        "pre3 = float(input(\"Enter Prelim Grade: \"))\n",
        "mid3 = float(input(\"Enter Midterm Grade: \"))\n",
        "fin3 = float(input(\"Enter Final Grade: \"))\n",
        "\n",
        "print()\n",
        "\n",
        "print(\"This is the average of the Student:\")\n",
        "\n",
        "student1 = Students(std1, pre1, mid1, fin1)\n",
        "print(\"Average of Student 1:\", student1.Grade())\n",
        "\n",
        "student2 = Students(std2, pre2, mid2, fin2)\n",
        "print(\"Average of Student 2:\",student2.Grade())\n",
        "\n",
        "student3 = Students(std3, pre3, mid3, fin3)\n",
        "print(\"Average of Student 3:\",student3.Grade())"
      ],
      "metadata": {
        "colab": {
          "base_uri": "https://localhost:8080/"
        },
        "id": "itLDm7b4THy2",
        "outputId": "d2f40718-f8ca-4a73-e4be-b9266e281915"
      },
      "execution_count": 9,
      "outputs": [
        {
          "output_type": "stream",
          "name": "stdout",
          "text": [
            "Enter Name: rov\n",
            "Enter Prelim Grade: 98\n",
            "Enter Midterm Grade: 97\n",
            "Enter Final Grade: 97\n",
            "\n",
            "Enter Name: ian\n",
            "Enter Prelim Grade: 96\n",
            "Enter Midterm Grade: 97\n",
            "Enter Final Grade: 96\n",
            "\n",
            "Enter Name: mat\n",
            "Enter Prelim Grade: 98\n",
            "Enter Midterm Grade: 95\n",
            "Enter Final Grade: 98\n",
            "\n",
            "This is the average of the Student:\n",
            "Average of Student 1: 97\n",
            "Average of Student 2: 96\n",
            "Average of Student 3: 97\n"
          ]
        }
      ]
    }
  ]
}